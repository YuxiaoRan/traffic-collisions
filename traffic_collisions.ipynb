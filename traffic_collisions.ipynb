{
 "cells": [
  {
   "cell_type": "code",
   "execution_count": 301,
   "metadata": {},
   "outputs": [],
   "source": [
    "# project for datathon 2019\n",
    "# main author: Yuxiao Ran\n",
    "# team: table 15 (Yuxiao Ran, Bingqi Zhou, Yuexiang Zhang)\n",
    "# data: 4/20/19"
   ]
  },
  {
   "cell_type": "code",
   "execution_count": 333,
   "metadata": {},
   "outputs": [],
   "source": [
    "import pandas as pd\n",
    "import numpy as np\n",
    "import matplotlib.pyplot as plt\n",
    "import re\n",
    "import warnings; warnings.simplefilter('ignore')"
   ]
  },
  {
   "cell_type": "code",
   "execution_count": 307,
   "metadata": {},
   "outputs": [],
   "source": [
    "# load datasets\n",
    "collisions = pd.read_csv(\"pd_collisions_datasd.csv\")\n",
    "counts = pd.read_csv(\"traffic_counts_datasd.csv\")"
   ]
  },
  {
   "cell_type": "code",
   "execution_count": 308,
   "metadata": {},
   "outputs": [],
   "source": [
    "# clean data in collisions\n",
    "collisions_cleaned = collisions[[\"date_time\", \"street_name\", \"street_type\", \"injured\", \"killed\"]]"
   ]
  },
  {
   "cell_type": "code",
   "execution_count": 309,
   "metadata": {
    "scrolled": true
   },
   "outputs": [],
   "source": [
    "# clean data in counts\n",
    "counts_cleaned = counts[[\"street_name\", \"total_count\", \"count_date\"]]"
   ]
  },
  {
   "cell_type": "code",
   "execution_count": 310,
   "metadata": {},
   "outputs": [],
   "source": [
    "# function that drop exact time in data_time / count_date\n",
    "def only_date(datetime):\n",
    "    return datetime[:10]"
   ]
  },
  {
   "cell_type": "code",
   "execution_count": 334,
   "metadata": {},
   "outputs": [
    {
     "data": {
      "text/html": [
       "<div>\n",
       "<style scoped>\n",
       "    .dataframe tbody tr th:only-of-type {\n",
       "        vertical-align: middle;\n",
       "    }\n",
       "\n",
       "    .dataframe tbody tr th {\n",
       "        vertical-align: top;\n",
       "    }\n",
       "\n",
       "    .dataframe thead th {\n",
       "        text-align: right;\n",
       "    }\n",
       "</style>\n",
       "<table border=\"1\" class=\"dataframe\">\n",
       "  <thead>\n",
       "    <tr style=\"text-align: right;\">\n",
       "      <th></th>\n",
       "      <th>street_name</th>\n",
       "      <th>street_type</th>\n",
       "      <th>injured</th>\n",
       "      <th>killed</th>\n",
       "      <th>new_time</th>\n",
       "    </tr>\n",
       "  </thead>\n",
       "  <tbody>\n",
       "    <tr>\n",
       "      <th>0</th>\n",
       "      <td>CAM DEL ORO</td>\n",
       "      <td></td>\n",
       "      <td>0</td>\n",
       "      <td>0</td>\n",
       "      <td>2017-01-01</td>\n",
       "    </tr>\n",
       "    <tr>\n",
       "      <th>1</th>\n",
       "      <td>ROYAL GORGE</td>\n",
       "      <td>DRIVE</td>\n",
       "      <td>0</td>\n",
       "      <td>0</td>\n",
       "      <td>2017-01-01</td>\n",
       "    </tr>\n",
       "    <tr>\n",
       "      <th>2</th>\n",
       "      <td>CRAWFORD</td>\n",
       "      <td>STREET</td>\n",
       "      <td>0</td>\n",
       "      <td>0</td>\n",
       "      <td>2017-01-01</td>\n",
       "    </tr>\n",
       "    <tr>\n",
       "      <th>3</th>\n",
       "      <td>VALERIO</td>\n",
       "      <td>TRAIL</td>\n",
       "      <td>0</td>\n",
       "      <td>0</td>\n",
       "      <td>2017-01-01</td>\n",
       "    </tr>\n",
       "    <tr>\n",
       "      <th>4</th>\n",
       "      <td>11TH</td>\n",
       "      <td>AVENUE</td>\n",
       "      <td>0</td>\n",
       "      <td>0</td>\n",
       "      <td>2017-01-01</td>\n",
       "    </tr>\n",
       "  </tbody>\n",
       "</table>\n",
       "</div>"
      ],
      "text/plain": [
       "   street_name street_type  injured  killed    new_time\n",
       "0  CAM DEL ORO                    0       0  2017-01-01\n",
       "1  ROYAL GORGE       DRIVE        0       0  2017-01-01\n",
       "2     CRAWFORD      STREET        0       0  2017-01-01\n",
       "3      VALERIO       TRAIL        0       0  2017-01-01\n",
       "4         11TH      AVENUE        0       0  2017-01-01"
      ]
     },
     "execution_count": 334,
     "metadata": {},
     "output_type": "execute_result"
    }
   ],
   "source": [
    "collisions_cleaned[\"new_time\"] = collisions_cleaned[\"date_time\"].apply(only_date)\n",
    "collisions_nt = collisions_cleaned.drop(\"date_time\", axis=1)\n",
    "collisions_nt.head()"
   ]
  },
  {
   "cell_type": "code",
   "execution_count": 313,
   "metadata": {},
   "outputs": [
    {
     "data": {
      "text/html": [
       "<div>\n",
       "<style scoped>\n",
       "    .dataframe tbody tr th:only-of-type {\n",
       "        vertical-align: middle;\n",
       "    }\n",
       "\n",
       "    .dataframe tbody tr th {\n",
       "        vertical-align: top;\n",
       "    }\n",
       "\n",
       "    .dataframe thead th {\n",
       "        text-align: right;\n",
       "    }\n",
       "</style>\n",
       "<table border=\"1\" class=\"dataframe\">\n",
       "  <thead>\n",
       "    <tr style=\"text-align: right;\">\n",
       "      <th></th>\n",
       "      <th>street_name</th>\n",
       "      <th>street_type</th>\n",
       "      <th>new_time</th>\n",
       "      <th>casualties</th>\n",
       "    </tr>\n",
       "  </thead>\n",
       "  <tbody>\n",
       "    <tr>\n",
       "      <th>0</th>\n",
       "      <td>CAM DEL ORO</td>\n",
       "      <td></td>\n",
       "      <td>2017-01-01</td>\n",
       "      <td>0</td>\n",
       "    </tr>\n",
       "    <tr>\n",
       "      <th>1</th>\n",
       "      <td>ROYAL GORGE</td>\n",
       "      <td>DRIVE</td>\n",
       "      <td>2017-01-01</td>\n",
       "      <td>0</td>\n",
       "    </tr>\n",
       "    <tr>\n",
       "      <th>2</th>\n",
       "      <td>CRAWFORD</td>\n",
       "      <td>STREET</td>\n",
       "      <td>2017-01-01</td>\n",
       "      <td>0</td>\n",
       "    </tr>\n",
       "    <tr>\n",
       "      <th>3</th>\n",
       "      <td>VALERIO</td>\n",
       "      <td>TRAIL</td>\n",
       "      <td>2017-01-01</td>\n",
       "      <td>0</td>\n",
       "    </tr>\n",
       "    <tr>\n",
       "      <th>4</th>\n",
       "      <td>11TH</td>\n",
       "      <td>AVENUE</td>\n",
       "      <td>2017-01-01</td>\n",
       "      <td>0</td>\n",
       "    </tr>\n",
       "  </tbody>\n",
       "</table>\n",
       "</div>"
      ],
      "text/plain": [
       "   street_name street_type    new_time  casualties\n",
       "0  CAM DEL ORO              2017-01-01           0\n",
       "1  ROYAL GORGE       DRIVE  2017-01-01           0\n",
       "2     CRAWFORD      STREET  2017-01-01           0\n",
       "3      VALERIO       TRAIL  2017-01-01           0\n",
       "4         11TH      AVENUE  2017-01-01           0"
      ]
     },
     "execution_count": 313,
     "metadata": {},
     "output_type": "execute_result"
    }
   ],
   "source": [
    "# calculate casualties in collisions\n",
    "collisions_nt[\"casualties\"] = collisions_nt[\"injured\"] + collisions_nt[\"killed\"]\n",
    "collisions_cas = collisions_nt.drop([\"injured\", \"killed\"], axis=1)\n",
    "collisions_cas.head()"
   ]
  },
  {
   "cell_type": "code",
   "execution_count": 335,
   "metadata": {
    "scrolled": false
   },
   "outputs": [
    {
     "data": {
      "text/html": [
       "<div>\n",
       "<style scoped>\n",
       "    .dataframe tbody tr th:only-of-type {\n",
       "        vertical-align: middle;\n",
       "    }\n",
       "\n",
       "    .dataframe tbody tr th {\n",
       "        vertical-align: top;\n",
       "    }\n",
       "\n",
       "    .dataframe thead th {\n",
       "        text-align: right;\n",
       "    }\n",
       "</style>\n",
       "<table border=\"1\" class=\"dataframe\">\n",
       "  <thead>\n",
       "    <tr style=\"text-align: right;\">\n",
       "      <th></th>\n",
       "      <th>street_name</th>\n",
       "      <th>total_count</th>\n",
       "      <th>new_time</th>\n",
       "    </tr>\n",
       "  </thead>\n",
       "  <tbody>\n",
       "    <tr>\n",
       "      <th>0</th>\n",
       "      <td>01 AV</td>\n",
       "      <td>18010</td>\n",
       "      <td>2007-03-13</td>\n",
       "    </tr>\n",
       "    <tr>\n",
       "      <th>1</th>\n",
       "      <td>01 AV</td>\n",
       "      <td>20060</td>\n",
       "      <td>2010-03-18</td>\n",
       "    </tr>\n",
       "    <tr>\n",
       "      <th>2</th>\n",
       "      <td>01 AV</td>\n",
       "      <td>19597</td>\n",
       "      <td>2013-03-12</td>\n",
       "    </tr>\n",
       "    <tr>\n",
       "      <th>3</th>\n",
       "      <td>01 AV</td>\n",
       "      <td>2298</td>\n",
       "      <td>2012-12-11</td>\n",
       "    </tr>\n",
       "    <tr>\n",
       "      <th>4</th>\n",
       "      <td>01 AV</td>\n",
       "      <td>15625</td>\n",
       "      <td>2011-09-01</td>\n",
       "    </tr>\n",
       "  </tbody>\n",
       "</table>\n",
       "</div>"
      ],
      "text/plain": [
       "  street_name  total_count    new_time\n",
       "0       01 AV        18010  2007-03-13\n",
       "1       01 AV        20060  2010-03-18\n",
       "2       01 AV        19597  2013-03-12\n",
       "3       01 AV         2298  2012-12-11\n",
       "4       01 AV        15625  2011-09-01"
      ]
     },
     "execution_count": 335,
     "metadata": {},
     "output_type": "execute_result"
    }
   ],
   "source": [
    "counts_cleaned[\"new_time\"] = counts_cleaned[\"count_date\"].apply(only_date)\n",
    "counts_nt = counts_cleaned.drop(\"count_date\", axis=1)\n",
    "counts_nt.head()"
   ]
  },
  {
   "cell_type": "code",
   "execution_count": 315,
   "metadata": {},
   "outputs": [],
   "source": [
    "# functions that converts street names, eg: \"01ST\" -> \"01\" and \"11TH\" -> \"11\"\n",
    "def st_num(s):\n",
    "    if re.match(r'\\d{2}(ST|ND|RD|TH)', s):\n",
    "        return s[0:2]\n",
    "    return s"
   ]
  },
  {
   "cell_type": "code",
   "execution_count": 316,
   "metadata": {},
   "outputs": [
    {
     "data": {
      "text/html": [
       "<div>\n",
       "<style scoped>\n",
       "    .dataframe tbody tr th:only-of-type {\n",
       "        vertical-align: middle;\n",
       "    }\n",
       "\n",
       "    .dataframe tbody tr th {\n",
       "        vertical-align: top;\n",
       "    }\n",
       "\n",
       "    .dataframe thead th {\n",
       "        text-align: right;\n",
       "    }\n",
       "</style>\n",
       "<table border=\"1\" class=\"dataframe\">\n",
       "  <thead>\n",
       "    <tr style=\"text-align: right;\">\n",
       "      <th></th>\n",
       "      <th>street_name</th>\n",
       "      <th>street_type</th>\n",
       "      <th>new_time</th>\n",
       "      <th>casualties</th>\n",
       "    </tr>\n",
       "  </thead>\n",
       "  <tbody>\n",
       "    <tr>\n",
       "      <th>0</th>\n",
       "      <td>CAM DEL ORO</td>\n",
       "      <td></td>\n",
       "      <td>2017-01-01</td>\n",
       "      <td>0</td>\n",
       "    </tr>\n",
       "    <tr>\n",
       "      <th>1</th>\n",
       "      <td>ROYAL GORGE</td>\n",
       "      <td>DRIVE</td>\n",
       "      <td>2017-01-01</td>\n",
       "      <td>0</td>\n",
       "    </tr>\n",
       "    <tr>\n",
       "      <th>2</th>\n",
       "      <td>CRAWFORD</td>\n",
       "      <td>STREET</td>\n",
       "      <td>2017-01-01</td>\n",
       "      <td>0</td>\n",
       "    </tr>\n",
       "    <tr>\n",
       "      <th>3</th>\n",
       "      <td>VALERIO</td>\n",
       "      <td>TRAIL</td>\n",
       "      <td>2017-01-01</td>\n",
       "      <td>0</td>\n",
       "    </tr>\n",
       "    <tr>\n",
       "      <th>4</th>\n",
       "      <td>11</td>\n",
       "      <td>AVENUE</td>\n",
       "      <td>2017-01-01</td>\n",
       "      <td>0</td>\n",
       "    </tr>\n",
       "  </tbody>\n",
       "</table>\n",
       "</div>"
      ],
      "text/plain": [
       "   street_name street_type    new_time  casualties\n",
       "0  CAM DEL ORO              2017-01-01           0\n",
       "1  ROYAL GORGE       DRIVE  2017-01-01           0\n",
       "2     CRAWFORD      STREET  2017-01-01           0\n",
       "3      VALERIO       TRAIL  2017-01-01           0\n",
       "4           11      AVENUE  2017-01-01           0"
      ]
     },
     "execution_count": 316,
     "metadata": {},
     "output_type": "execute_result"
    }
   ],
   "source": [
    "collisions_cas[\"street_name\"] = collisions_cas[\"street_name\"].apply(st_num)\n",
    "collisions_cas.head()"
   ]
  },
  {
   "cell_type": "code",
   "execution_count": 317,
   "metadata": {},
   "outputs": [
    {
     "data": {
      "text/plain": [
       "array(['AV', 'ST', '', 'DR', 'RD', 'BL', 'PL', 'WY', 'PY', 'CR', 'SUR',\n",
       "       'LN', 'CT', 'PT', 'ML', 'TL', 'GL', 'TR', 'HY'], dtype=object)"
      ]
     },
     "execution_count": 317,
     "metadata": {},
     "output_type": "execute_result"
    }
   ],
   "source": [
    "# function that finds all abbr for street types\n",
    "def st_type(s):\n",
    "    if re.search(r'[ ]{1}[A-Z]{2,5}$', s):\n",
    "        return s.split(\" \")[-1]\n",
    "    return \"\"\n",
    "counts_nt[\"street_name\"].apply(st_type).unique()"
   ]
  },
  {
   "cell_type": "code",
   "execution_count": 318,
   "metadata": {
    "scrolled": true
   },
   "outputs": [
    {
     "data": {
      "text/plain": [
       "array([' ', 'DRIVE', 'STREET', 'TRAIL', 'AVENUE', 'PLACE', 'COURT',\n",
       "       'ROAD', 'BOULEVARD', 'PARKWAY', 'WAY', 'COVE', 'CIRCLE', 'LANE',\n",
       "       'HIGHWAY', 'TERRACE', 'PLAZA', 'MALL', 'ROW', 'POINT', 'WALK',\n",
       "       'PASEO', 'SQUARE', 'RAMP', 'DRIVEWAY', 'KNOLLS', nan, 'LIGHTS'],\n",
       "      dtype=object)"
      ]
     },
     "execution_count": 318,
     "metadata": {},
     "output_type": "execute_result"
    }
   ],
   "source": [
    "collisions_cas[\"street_type\"].unique()"
   ]
  },
  {
   "cell_type": "code",
   "execution_count": 319,
   "metadata": {},
   "outputs": [],
   "source": [
    "# credit to B.Zhou\n",
    "brief_to_full = {'AV': 'AVENUE', 'BL': 'BOULEVARD', 'CR': 'CIRCLE', 'CT': 'COURT', 'DR': 'DRIVE', 'HY': 'HIGHWAY', 'LN': 'LANE', \\\n",
    "                'ML': 'MALL', 'PL': 'PLACE', 'PT': 'POINT', 'PY': 'PARKWAY', 'RD': 'ROAD', 'ST': 'STREET', 'TL': 'TRAIL', \\\n",
    "                'TR': 'TERRACE', 'WY': 'WAY', \"\": \" \"}"
   ]
  },
  {
   "cell_type": "code",
   "execution_count": 320,
   "metadata": {},
   "outputs": [],
   "source": [
    "st_type_dict = {v: k for k, v in brief_to_full.items()}\n",
    "def find_abbr(s):\n",
    "    if s in st_type_dict:\n",
    "        return \" \" + st_type_dict[s]\n",
    "    return \"\""
   ]
  },
  {
   "cell_type": "code",
   "execution_count": 321,
   "metadata": {},
   "outputs": [
    {
     "data": {
      "text/html": [
       "<div>\n",
       "<style scoped>\n",
       "    .dataframe tbody tr th:only-of-type {\n",
       "        vertical-align: middle;\n",
       "    }\n",
       "\n",
       "    .dataframe tbody tr th {\n",
       "        vertical-align: top;\n",
       "    }\n",
       "\n",
       "    .dataframe thead th {\n",
       "        text-align: right;\n",
       "    }\n",
       "</style>\n",
       "<table border=\"1\" class=\"dataframe\">\n",
       "  <thead>\n",
       "    <tr style=\"text-align: right;\">\n",
       "      <th></th>\n",
       "      <th>street_name</th>\n",
       "      <th>new_time</th>\n",
       "      <th>casualties</th>\n",
       "    </tr>\n",
       "  </thead>\n",
       "  <tbody>\n",
       "    <tr>\n",
       "      <th>0</th>\n",
       "      <td>CAM DEL ORO</td>\n",
       "      <td>2017-01-01</td>\n",
       "      <td>0</td>\n",
       "    </tr>\n",
       "    <tr>\n",
       "      <th>1</th>\n",
       "      <td>ROYAL GORGE DR</td>\n",
       "      <td>2017-01-01</td>\n",
       "      <td>0</td>\n",
       "    </tr>\n",
       "    <tr>\n",
       "      <th>2</th>\n",
       "      <td>CRAWFORD ST</td>\n",
       "      <td>2017-01-01</td>\n",
       "      <td>0</td>\n",
       "    </tr>\n",
       "    <tr>\n",
       "      <th>3</th>\n",
       "      <td>VALERIO TL</td>\n",
       "      <td>2017-01-01</td>\n",
       "      <td>0</td>\n",
       "    </tr>\n",
       "    <tr>\n",
       "      <th>4</th>\n",
       "      <td>11 AV</td>\n",
       "      <td>2017-01-01</td>\n",
       "      <td>0</td>\n",
       "    </tr>\n",
       "  </tbody>\n",
       "</table>\n",
       "</div>"
      ],
      "text/plain": [
       "      street_name    new_time  casualties\n",
       "0    CAM DEL ORO   2017-01-01           0\n",
       "1  ROYAL GORGE DR  2017-01-01           0\n",
       "2     CRAWFORD ST  2017-01-01           0\n",
       "3      VALERIO TL  2017-01-01           0\n",
       "4           11 AV  2017-01-01           0"
      ]
     },
     "execution_count": 321,
     "metadata": {},
     "output_type": "execute_result"
    }
   ],
   "source": [
    "# integrate street names and street types in collisions\n",
    "collisions_abbr = collisions_cas.copy(deep=True)\n",
    "collisions_abbr[\"street_name\"] = collisions_abbr[\"street_name\"] + collisions_abbr[\"street_type\"].apply(find_abbr)\n",
    "collisions_abbr = collisions_abbr.drop(\"street_type\", axis=1)\n",
    "collisions_abbr.head()"
   ]
  },
  {
   "cell_type": "code",
   "execution_count": 322,
   "metadata": {},
   "outputs": [
    {
     "data": {
      "text/html": [
       "<div>\n",
       "<style scoped>\n",
       "    .dataframe tbody tr th:only-of-type {\n",
       "        vertical-align: middle;\n",
       "    }\n",
       "\n",
       "    .dataframe tbody tr th {\n",
       "        vertical-align: top;\n",
       "    }\n",
       "\n",
       "    .dataframe thead th {\n",
       "        text-align: right;\n",
       "    }\n",
       "</style>\n",
       "<table border=\"1\" class=\"dataframe\">\n",
       "  <thead>\n",
       "    <tr style=\"text-align: right;\">\n",
       "      <th></th>\n",
       "      <th>street_name</th>\n",
       "      <th>total_count</th>\n",
       "    </tr>\n",
       "  </thead>\n",
       "  <tbody>\n",
       "    <tr>\n",
       "      <th>0</th>\n",
       "      <td>01 AV</td>\n",
       "      <td>8810.594937</td>\n",
       "    </tr>\n",
       "    <tr>\n",
       "      <th>1</th>\n",
       "      <td>02 AV</td>\n",
       "      <td>3676.230769</td>\n",
       "    </tr>\n",
       "    <tr>\n",
       "      <th>2</th>\n",
       "      <td>03 AV</td>\n",
       "      <td>3852.904762</td>\n",
       "    </tr>\n",
       "    <tr>\n",
       "      <th>3</th>\n",
       "      <td>04 AV</td>\n",
       "      <td>9194.922078</td>\n",
       "    </tr>\n",
       "    <tr>\n",
       "      <th>4</th>\n",
       "      <td>05 AV</td>\n",
       "      <td>9760.908046</td>\n",
       "    </tr>\n",
       "  </tbody>\n",
       "</table>\n",
       "</div>"
      ],
      "text/plain": [
       "  street_name  total_count\n",
       "0       01 AV  8810.594937\n",
       "1       02 AV  3676.230769\n",
       "2       03 AV  3852.904762\n",
       "3       04 AV  9194.922078\n",
       "4       05 AV  9760.908046"
      ]
     },
     "execution_count": 322,
     "metadata": {},
     "output_type": "execute_result"
    }
   ],
   "source": [
    "# group counts by street names\n",
    "counts_by_st_name = counts_nt.groupby(\"street_name\").mean()\n",
    "counts_by_st_name = counts_by_st_name.reset_index()\n",
    "counts_by_st_name.head()"
   ]
  },
  {
   "cell_type": "code",
   "execution_count": 326,
   "metadata": {},
   "outputs": [
    {
     "data": {
      "text/html": [
       "<div>\n",
       "<style scoped>\n",
       "    .dataframe tbody tr th:only-of-type {\n",
       "        vertical-align: middle;\n",
       "    }\n",
       "\n",
       "    .dataframe tbody tr th {\n",
       "        vertical-align: top;\n",
       "    }\n",
       "\n",
       "    .dataframe thead th {\n",
       "        text-align: right;\n",
       "    }\n",
       "</style>\n",
       "<table border=\"1\" class=\"dataframe\">\n",
       "  <thead>\n",
       "    <tr style=\"text-align: right;\">\n",
       "      <th></th>\n",
       "      <th>street_name</th>\n",
       "      <th>casualties</th>\n",
       "    </tr>\n",
       "  </thead>\n",
       "  <tbody>\n",
       "    <tr>\n",
       "      <th>0</th>\n",
       "      <td>UNIVERSITY AV</td>\n",
       "      <td>362</td>\n",
       "    </tr>\n",
       "    <tr>\n",
       "      <th>1</th>\n",
       "      <td>EL CAJON BL</td>\n",
       "      <td>358</td>\n",
       "    </tr>\n",
       "    <tr>\n",
       "      <th>2</th>\n",
       "      <td>MIRAMAR RD</td>\n",
       "      <td>316</td>\n",
       "    </tr>\n",
       "    <tr>\n",
       "      <th>3</th>\n",
       "      <td>MIRA MESA BL</td>\n",
       "      <td>237</td>\n",
       "    </tr>\n",
       "    <tr>\n",
       "      <th>4</th>\n",
       "      <td>OCEAN VIEW BL</td>\n",
       "      <td>235</td>\n",
       "    </tr>\n",
       "  </tbody>\n",
       "</table>\n",
       "</div>"
      ],
      "text/plain": [
       "     street_name  casualties\n",
       "0  UNIVERSITY AV         362\n",
       "1    EL CAJON BL         358\n",
       "2     MIRAMAR RD         316\n",
       "3   MIRA MESA BL         237\n",
       "4  OCEAN VIEW BL         235"
      ]
     },
     "execution_count": 326,
     "metadata": {},
     "output_type": "execute_result"
    }
   ],
   "source": [
    "# group collisions by street names, and sum casualties\n",
    "# only consider streets that have more than 5 casualties\n",
    "collisions_unformed = collisions_abbr.groupby(\"street_name\").sum()\n",
    "collisions_sorted_by_casualties = collisions_unformed.sort_values(\"casualties\", ascending=False)\n",
    "collisions_dangerous = collisions_sorted_by_casualties[collisions_sorted_by_casualties[\"casualties\"] >= 5]\n",
    "collisions_dangerous = collisions_dangerous.reset_index()\n",
    "collisions_dangerous.head()"
   ]
  },
  {
   "cell_type": "code",
   "execution_count": 327,
   "metadata": {},
   "outputs": [
    {
     "data": {
      "text/html": [
       "<div>\n",
       "<style scoped>\n",
       "    .dataframe tbody tr th:only-of-type {\n",
       "        vertical-align: middle;\n",
       "    }\n",
       "\n",
       "    .dataframe tbody tr th {\n",
       "        vertical-align: top;\n",
       "    }\n",
       "\n",
       "    .dataframe thead th {\n",
       "        text-align: right;\n",
       "    }\n",
       "</style>\n",
       "<table border=\"1\" class=\"dataframe\">\n",
       "  <thead>\n",
       "    <tr style=\"text-align: right;\">\n",
       "      <th></th>\n",
       "      <th>casualties</th>\n",
       "      <th>traffic_level</th>\n",
       "    </tr>\n",
       "    <tr>\n",
       "      <th>street_name</th>\n",
       "      <th></th>\n",
       "      <th></th>\n",
       "    </tr>\n",
       "  </thead>\n",
       "  <tbody>\n",
       "    <tr>\n",
       "      <th>UNIVERSITY AV</th>\n",
       "      <td>362</td>\n",
       "      <td>20583.447115</td>\n",
       "    </tr>\n",
       "    <tr>\n",
       "      <th>EL CAJON BL</th>\n",
       "      <td>358</td>\n",
       "      <td>25301.591667</td>\n",
       "    </tr>\n",
       "    <tr>\n",
       "      <th>MIRAMAR RD</th>\n",
       "      <td>316</td>\n",
       "      <td>50901.265625</td>\n",
       "    </tr>\n",
       "    <tr>\n",
       "      <th>MIRA MESA BL</th>\n",
       "      <td>237</td>\n",
       "      <td>51561.920455</td>\n",
       "    </tr>\n",
       "    <tr>\n",
       "      <th>OCEAN VIEW BL</th>\n",
       "      <td>235</td>\n",
       "      <td>9537.205882</td>\n",
       "    </tr>\n",
       "  </tbody>\n",
       "</table>\n",
       "</div>"
      ],
      "text/plain": [
       "               casualties  traffic_level\n",
       "street_name                             \n",
       "UNIVERSITY AV         362   20583.447115\n",
       "EL CAJON BL           358   25301.591667\n",
       "MIRAMAR RD            316   50901.265625\n",
       "MIRA MESA BL          237   51561.920455\n",
       "OCEAN VIEW BL         235    9537.205882"
      ]
     },
     "execution_count": 327,
     "metadata": {},
     "output_type": "execute_result"
    }
   ],
   "source": [
    "# combine counts and collisions\n",
    "combined = collisions_dangerous.set_index(\"street_name\").join(counts_by_st_name.set_index(\"street_name\")).dropna()\n",
    "combined = combined.rename({\"total_count\": \"traffic_level\"}, axis=1)\n",
    "combined.head()"
   ]
  },
  {
   "cell_type": "code",
   "execution_count": 328,
   "metadata": {
    "scrolled": true
   },
   "outputs": [
    {
     "data": {
      "text/plain": [
       "<matplotlib.axes._subplots.AxesSubplot at 0x27df879ada0>"
      ]
     },
     "execution_count": 328,
     "metadata": {},
     "output_type": "execute_result"
    },
    {
     "data": {
      "image/png": "[encoded data removed]",
      "text/plain": [
       "<matplotlib.figure.Figure at 0x27dfcaeb828>"
      ]
     },
     "metadata": {},
     "output_type": "display_data"
    }
   ],
   "source": [
    "# plot the possible relationship between traffic level and casualties\n",
    "combined.plot.scatter(\"traffic_level\", \"casualties\")"
   ]
  },
  {
   "cell_type": "code",
   "execution_count": 329,
   "metadata": {},
   "outputs": [
    {
     "data": {
      "text/html": [
       "<div>\n",
       "<style scoped>\n",
       "    .dataframe tbody tr th:only-of-type {\n",
       "        vertical-align: middle;\n",
       "    }\n",
       "\n",
       "    .dataframe tbody tr th {\n",
       "        vertical-align: top;\n",
       "    }\n",
       "\n",
       "    .dataframe thead th {\n",
       "        text-align: right;\n",
       "    }\n",
       "</style>\n",
       "<table border=\"1\" class=\"dataframe\">\n",
       "  <thead>\n",
       "    <tr style=\"text-align: right;\">\n",
       "      <th></th>\n",
       "      <th>casualties</th>\n",
       "      <th>traffic_level</th>\n",
       "      <th>risk</th>\n",
       "    </tr>\n",
       "    <tr>\n",
       "      <th>street_name</th>\n",
       "      <th></th>\n",
       "      <th></th>\n",
       "      <th></th>\n",
       "    </tr>\n",
       "  </thead>\n",
       "  <tbody>\n",
       "    <tr>\n",
       "      <th>OCEAN VIEW BL</th>\n",
       "      <td>235</td>\n",
       "      <td>9537.205882</td>\n",
       "      <td>0.024640</td>\n",
       "    </tr>\n",
       "    <tr>\n",
       "      <th>UNIVERSITY AV</th>\n",
       "      <td>362</td>\n",
       "      <td>20583.447115</td>\n",
       "      <td>0.017587</td>\n",
       "    </tr>\n",
       "    <tr>\n",
       "      <th>EL CAJON BL</th>\n",
       "      <td>358</td>\n",
       "      <td>25301.591667</td>\n",
       "      <td>0.014149</td>\n",
       "    </tr>\n",
       "    <tr>\n",
       "      <th>MARKET ST</th>\n",
       "      <td>172</td>\n",
       "      <td>12853.467213</td>\n",
       "      <td>0.013382</td>\n",
       "    </tr>\n",
       "    <tr>\n",
       "      <th>IMPERIAL AV</th>\n",
       "      <td>196</td>\n",
       "      <td>14720.911111</td>\n",
       "      <td>0.013314</td>\n",
       "    </tr>\n",
       "  </tbody>\n",
       "</table>\n",
       "</div>"
      ],
      "text/plain": [
       "               casualties  traffic_level      risk\n",
       "street_name                                       \n",
       "OCEAN VIEW BL         235    9537.205882  0.024640\n",
       "UNIVERSITY AV         362   20583.447115  0.017587\n",
       "EL CAJON BL           358   25301.591667  0.014149\n",
       "MARKET ST             172   12853.467213  0.013382\n",
       "IMPERIAL AV           196   14720.911111  0.013314"
      ]
     },
     "execution_count": 329,
     "metadata": {},
     "output_type": "execute_result"
    }
   ],
   "source": [
    "# compute risk = casualties / traffic_level\n",
    "combined_with_risk = combined.copy(deep=True)\n",
    "combined_with_risk[\"risk\"] = combined[\"casualties\"] / combined[\"traffic_level\"]\n",
    "combined_with_risk = combined_with_risk.sort_values(\"risk\", ascending=False)\n",
    "combined_with_risk.head()"
   ]
  },
  {
   "cell_type": "code",
   "execution_count": 330,
   "metadata": {},
   "outputs": [
    {
     "data": {
      "text/plain": [
       "Text(0,0.5,'Risk of Driving')"
      ]
     },
     "execution_count": 330,
     "metadata": {},
     "output_type": "execute_result"
    },
    {
     "data": {
      "image/png": "[encoded data removed]",
      "text/plain": [
       "<matplotlib.figure.Figure at 0x27dfcc09d68>"
      ]
     },
     "metadata": {},
     "output_type": "display_data"
    }
   ],
   "source": [
    "# plot 1: top 20 dangerous streets in SD\n",
    "result_risk = combined_with_risk.head(20).plot(kind=\"bar\", y=\"risk\", title=\"Top 20 Dangerous Streets for Driving in San Diego\")\n",
    "result_risk.set_xlabel(\"Street Name\")\n",
    "result_risk.set_ylabel(\"Risk of Driving\")"
   ]
  },
  {
   "cell_type": "code",
   "execution_count": 331,
   "metadata": {},
   "outputs": [
    {
     "data": {
      "text/plain": [
       "Text(0,0.5,'Casualties in History')"
      ]
     },
     "execution_count": 331,
     "metadata": {},
     "output_type": "execute_result"
    },
    {
     "data": {
      "image/png": "[encoded data removed]",
      "text/plain": [
       "<matplotlib.figure.Figure at 0x27d801f0cf8>"
      ]
     },
     "metadata": {},
     "output_type": "display_data"
    }
   ],
   "source": [
    "# plot 2: streets with top 20 casualties in SD\n",
    "result_cas = combined_with_risk.sort_values(\"casualties\", ascending=False).head(20).plot(kind=\"bar\", y=\"casualties\", \\\n",
    "                                                                                         title=\"Top 20 Casualties Streets in San Diego\")\n",
    "result_cas.set_xlabel(\"Street Name\")\n",
    "result_cas.set_ylabel(\"Casualties in History\")"
   ]
  },
  {
   "cell_type": "code",
   "execution_count": 332,
   "metadata": {},
   "outputs": [
    {
     "data": {
      "text/plain": [
       "Text(0,0.5,'Traffic Level')"
      ]
     },
     "execution_count": 332,
     "metadata": {},
     "output_type": "execute_result"
    },
    {
     "data": {
      "image/png": "[encoded data removed]",
      "text/plain": [
       "<matplotlib.figure.Figure at 0x27dfbe29a20>"
      ]
     },
     "metadata": {},
     "output_type": "display_data"
    }
   ],
   "source": [
    "# plot 3: streets with most traffic in SD\n",
    "result_tl = combined_with_risk.head(20).sort_values(\"traffic_level\", ascending=False).plot(kind=\"bar\", y=\"traffic_level\", \\\n",
    "                                                                                           title=\"Top 20 Busy Streets in San Diego\")\n",
    "result_tl.set_xlabel(\"Street Name\")\n",
    "result_tl.set_ylabel(\"Traffic Level\")"
   ]
  },
  {
   "cell_type": "code",
   "execution_count": null,
   "metadata": {},
   "outputs": [],
   "source": []
  }
 ],
 "metadata": {
  "kernelspec": {
   "display_name": "Python 3",
   "language": "python",
   "name": "python3"
  },
  "language_info": {
   "codemirror_mode": {
    "name": "ipython",
    "version": 3
   },
   "file_extension": ".py",
   "mimetype": "text/x-python",
   "name": "python",
   "nbconvert_exporter": "python",
   "pygments_lexer": "ipython3",
   "version": "3.6.4"
  }
 },
 "nbformat": 4,
 "nbformat_minor": 2
}
